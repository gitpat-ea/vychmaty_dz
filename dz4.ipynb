{
 "cells": [
  {
   "cell_type": "markdown",
   "id": "465bfb08",
   "metadata": {},
   "source": [
    "### 1. Генерация случайных величин с заранее заданной ковариационной матрицей.\n",
    "\n",
    "\n",
    "\n",
    "Разложение Холецкого используется для генерации коррелированных между собой случайных величин. Проще говоря, когда есть какой-то набор независимых случайных величин и ковариационная матрица. Как из этого получить набор случайных величин, имеющих такую ковариационную матрицу ?\n",
    "\n",
    "Это нужно как для моделирования случайных сигналов и физических процессов, так и в качестве вспомогательного элемента других вычислительных методов (Монте-Карло).\n",
    "Решение этой задачи делается с помощью разложения Холецкого. Алгоритм заключается в следующем:\n",
    "1. Осуществить разложение Холецкого ковариационной матрицы: $\\boldsymbol{\\Sigma}=\\mathbf{A} \\mathbf{A}^T$\n",
    "2. Сгенерировать случайный вектор $\\mathbf{z}$, компонентами которого являются независимые случайные величины с нормальным распределением\n",
    "\n",
    "3. Решением поставленной задачи будет вектор:\n",
    "$$\n",
    "\\mathbf{x}=\\mathbf{m}+\\mathbf{A} \\mathbf{z}\n",
    "$$\n",
    "Здесь $\\mathbf{m}$ - это постоянный вектор, составленный из математических ожиданий компонент вектора $\\mathbf{z}$.\n",
    "\n",
    "Напишите функцию, которая в качестве входного параметра берёт ковариационную матрицу, а возвращает набор случайных величин, действуя по описанному выше алгоритму."
   ]
  },
  {
   "cell_type": "code",
   "execution_count": 3,
   "id": "997b480b",
   "metadata": {},
   "outputs": [],
   "source": [
    "import numpy as np\n",
    "\n",
    "def generate_random_variables(cov_matrix, mean_vector):\n",
    "    \n",
    "    n = cov_matrix.shape[0]\n",
    "    \n",
    "    \n",
    "    \n",
    "    \n",
    "\n",
    "    A = np.linalg.cholesky(cov_matrix)\n",
    "    \n",
    "    z = np.random.randn(n)\n",
    "    x = mean_vector + A @ z\n",
    "    return x"
   ]
  },
  {
   "cell_type": "code",
   "execution_count": 6,
   "id": "9a82ecea",
   "metadata": {},
   "outputs": [
    {
     "name": "stdout",
     "output_type": "stream",
     "text": [
      "[-1.13995528 -2.45655279]\n"
     ]
    }
   ],
   "source": [
    "# Пример\n",
    "cov_matrix = np.array([[4, 2], [2, 3]])\n",
    "\n",
    "mean_vector = np.array([1, -1])\n",
    "\n",
    "x = generate_random_variables(cov_matrix, mean_vector)\n",
    "\n",
    "print( x)"
   ]
  },
  {
   "cell_type": "markdown",
   "id": "d771824f",
   "metadata": {},
   "source": [
    "### 2. Обработка экспериментальных данных..\n",
    "\n",
    "1. Обработайте какую-нибудь лабораторную работу (например, из курса общей физики или просто из папки на диске), требующую проведения прямой по экспериментально полученным точкам. Для решения задачи регрессии рекомендуется использовать библиотеку scikit-learn (sklearn) или scipy.\n",
    "\n",
    "2. Создайте прямую с шумом и аналогично обработайте данные.\n",
    "\n",
    "В обоих пунктах нужно построить график, на который будут нанесены точки и прямая среднеквадратической регрессии.\n",
    "\n",
    "Данные можно сформировать следующим образом:"
   ]
  },
  {
   "cell_type": "code",
   "execution_count": 7,
   "id": "2a9d52cf",
   "metadata": {},
   "outputs": [
    {
     "ename": "FileNotFoundError",
     "evalue": "[Errno 2] No such file or directory: 'data.xlsx'",
     "output_type": "error",
     "traceback": [
      "\u001b[0;31m---------------------------------------------------------------------------\u001b[0m",
      "\u001b[0;31mFileNotFoundError\u001b[0m                         Traceback (most recent call last)",
      "Cell \u001b[0;32mIn[7], line 9\u001b[0m\n\u001b[1;32m      6\u001b[0m \u001b[38;5;28;01mfrom\u001b[39;00m \u001b[38;5;21;01mscipy\u001b[39;00m\u001b[38;5;21;01m.\u001b[39;00m\u001b[38;5;21;01moptimize\u001b[39;00m \u001b[38;5;28;01mimport\u001b[39;00m curve_fit\n\u001b[1;32m      8\u001b[0m \u001b[38;5;66;03m# данные из лабораторной работы\u001b[39;00m\n\u001b[0;32m----> 9\u001b[0m data \u001b[38;5;241m=\u001b[39m \u001b[43mpd\u001b[49m\u001b[38;5;241;43m.\u001b[39;49m\u001b[43mread_excel\u001b[49m\u001b[43m(\u001b[49m\u001b[38;5;124;43m\"\u001b[39;49m\u001b[38;5;124;43mdata.xlsx\u001b[39;49m\u001b[38;5;124;43m\"\u001b[39;49m\u001b[43m)\u001b[49m\n\u001b[1;32m     11\u001b[0m T \u001b[38;5;241m=\u001b[39m data[\u001b[38;5;124m\"\u001b[39m\u001b[38;5;124mT\u001b[39m\u001b[38;5;124m\"\u001b[39m][:\u001b[38;5;241m-\u001b[39m\u001b[38;5;241m1\u001b[39m]\n\u001b[1;32m     12\u001b[0m U \u001b[38;5;241m=\u001b[39m data[\u001b[38;5;124m\"\u001b[39m\u001b[38;5;124mU\u001b[39m\u001b[38;5;124m\"\u001b[39m][:\u001b[38;5;241m-\u001b[39m\u001b[38;5;241m1\u001b[39m]\n",
      "File \u001b[0;32m~/anaconda3/lib/python3.10/site-packages/pandas/util/_decorators.py:211\u001b[0m, in \u001b[0;36mdeprecate_kwarg.<locals>._deprecate_kwarg.<locals>.wrapper\u001b[0;34m(*args, **kwargs)\u001b[0m\n\u001b[1;32m    209\u001b[0m     \u001b[38;5;28;01melse\u001b[39;00m:\n\u001b[1;32m    210\u001b[0m         kwargs[new_arg_name] \u001b[38;5;241m=\u001b[39m new_arg_value\n\u001b[0;32m--> 211\u001b[0m \u001b[38;5;28;01mreturn\u001b[39;00m \u001b[43mfunc\u001b[49m\u001b[43m(\u001b[49m\u001b[38;5;241;43m*\u001b[39;49m\u001b[43margs\u001b[49m\u001b[43m,\u001b[49m\u001b[43m \u001b[49m\u001b[38;5;241;43m*\u001b[39;49m\u001b[38;5;241;43m*\u001b[39;49m\u001b[43mkwargs\u001b[49m\u001b[43m)\u001b[49m\n",
      "File \u001b[0;32m~/anaconda3/lib/python3.10/site-packages/pandas/util/_decorators.py:331\u001b[0m, in \u001b[0;36mdeprecate_nonkeyword_arguments.<locals>.decorate.<locals>.wrapper\u001b[0;34m(*args, **kwargs)\u001b[0m\n\u001b[1;32m    325\u001b[0m \u001b[38;5;28;01mif\u001b[39;00m \u001b[38;5;28mlen\u001b[39m(args) \u001b[38;5;241m>\u001b[39m num_allow_args:\n\u001b[1;32m    326\u001b[0m     warnings\u001b[38;5;241m.\u001b[39mwarn(\n\u001b[1;32m    327\u001b[0m         msg\u001b[38;5;241m.\u001b[39mformat(arguments\u001b[38;5;241m=\u001b[39m_format_argument_list(allow_args)),\n\u001b[1;32m    328\u001b[0m         \u001b[38;5;167;01mFutureWarning\u001b[39;00m,\n\u001b[1;32m    329\u001b[0m         stacklevel\u001b[38;5;241m=\u001b[39mfind_stack_level(),\n\u001b[1;32m    330\u001b[0m     )\n\u001b[0;32m--> 331\u001b[0m \u001b[38;5;28;01mreturn\u001b[39;00m \u001b[43mfunc\u001b[49m\u001b[43m(\u001b[49m\u001b[38;5;241;43m*\u001b[39;49m\u001b[43margs\u001b[49m\u001b[43m,\u001b[49m\u001b[43m \u001b[49m\u001b[38;5;241;43m*\u001b[39;49m\u001b[38;5;241;43m*\u001b[39;49m\u001b[43mkwargs\u001b[49m\u001b[43m)\u001b[49m\n",
      "File \u001b[0;32m~/anaconda3/lib/python3.10/site-packages/pandas/io/excel/_base.py:482\u001b[0m, in \u001b[0;36mread_excel\u001b[0;34m(io, sheet_name, header, names, index_col, usecols, squeeze, dtype, engine, converters, true_values, false_values, skiprows, nrows, na_values, keep_default_na, na_filter, verbose, parse_dates, date_parser, thousands, decimal, comment, skipfooter, convert_float, mangle_dupe_cols, storage_options)\u001b[0m\n\u001b[1;32m    480\u001b[0m \u001b[38;5;28;01mif\u001b[39;00m \u001b[38;5;129;01mnot\u001b[39;00m \u001b[38;5;28misinstance\u001b[39m(io, ExcelFile):\n\u001b[1;32m    481\u001b[0m     should_close \u001b[38;5;241m=\u001b[39m \u001b[38;5;28;01mTrue\u001b[39;00m\n\u001b[0;32m--> 482\u001b[0m     io \u001b[38;5;241m=\u001b[39m \u001b[43mExcelFile\u001b[49m\u001b[43m(\u001b[49m\u001b[43mio\u001b[49m\u001b[43m,\u001b[49m\u001b[43m \u001b[49m\u001b[43mstorage_options\u001b[49m\u001b[38;5;241;43m=\u001b[39;49m\u001b[43mstorage_options\u001b[49m\u001b[43m,\u001b[49m\u001b[43m \u001b[49m\u001b[43mengine\u001b[49m\u001b[38;5;241;43m=\u001b[39;49m\u001b[43mengine\u001b[49m\u001b[43m)\u001b[49m\n\u001b[1;32m    483\u001b[0m \u001b[38;5;28;01melif\u001b[39;00m engine \u001b[38;5;129;01mand\u001b[39;00m engine \u001b[38;5;241m!=\u001b[39m io\u001b[38;5;241m.\u001b[39mengine:\n\u001b[1;32m    484\u001b[0m     \u001b[38;5;28;01mraise\u001b[39;00m \u001b[38;5;167;01mValueError\u001b[39;00m(\n\u001b[1;32m    485\u001b[0m         \u001b[38;5;124m\"\u001b[39m\u001b[38;5;124mEngine should not be specified when passing \u001b[39m\u001b[38;5;124m\"\u001b[39m\n\u001b[1;32m    486\u001b[0m         \u001b[38;5;124m\"\u001b[39m\u001b[38;5;124man ExcelFile - ExcelFile already has the engine set\u001b[39m\u001b[38;5;124m\"\u001b[39m\n\u001b[1;32m    487\u001b[0m     )\n",
      "File \u001b[0;32m~/anaconda3/lib/python3.10/site-packages/pandas/io/excel/_base.py:1652\u001b[0m, in \u001b[0;36mExcelFile.__init__\u001b[0;34m(self, path_or_buffer, engine, storage_options)\u001b[0m\n\u001b[1;32m   1650\u001b[0m     ext \u001b[38;5;241m=\u001b[39m \u001b[38;5;124m\"\u001b[39m\u001b[38;5;124mxls\u001b[39m\u001b[38;5;124m\"\u001b[39m\n\u001b[1;32m   1651\u001b[0m \u001b[38;5;28;01melse\u001b[39;00m:\n\u001b[0;32m-> 1652\u001b[0m     ext \u001b[38;5;241m=\u001b[39m \u001b[43minspect_excel_format\u001b[49m\u001b[43m(\u001b[49m\n\u001b[1;32m   1653\u001b[0m \u001b[43m        \u001b[49m\u001b[43mcontent_or_path\u001b[49m\u001b[38;5;241;43m=\u001b[39;49m\u001b[43mpath_or_buffer\u001b[49m\u001b[43m,\u001b[49m\u001b[43m \u001b[49m\u001b[43mstorage_options\u001b[49m\u001b[38;5;241;43m=\u001b[39;49m\u001b[43mstorage_options\u001b[49m\n\u001b[1;32m   1654\u001b[0m \u001b[43m    \u001b[49m\u001b[43m)\u001b[49m\n\u001b[1;32m   1655\u001b[0m     \u001b[38;5;28;01mif\u001b[39;00m ext \u001b[38;5;129;01mis\u001b[39;00m \u001b[38;5;28;01mNone\u001b[39;00m:\n\u001b[1;32m   1656\u001b[0m         \u001b[38;5;28;01mraise\u001b[39;00m \u001b[38;5;167;01mValueError\u001b[39;00m(\n\u001b[1;32m   1657\u001b[0m             \u001b[38;5;124m\"\u001b[39m\u001b[38;5;124mExcel file format cannot be determined, you must specify \u001b[39m\u001b[38;5;124m\"\u001b[39m\n\u001b[1;32m   1658\u001b[0m             \u001b[38;5;124m\"\u001b[39m\u001b[38;5;124man engine manually.\u001b[39m\u001b[38;5;124m\"\u001b[39m\n\u001b[1;32m   1659\u001b[0m         )\n",
      "File \u001b[0;32m~/anaconda3/lib/python3.10/site-packages/pandas/io/excel/_base.py:1525\u001b[0m, in \u001b[0;36minspect_excel_format\u001b[0;34m(content_or_path, storage_options)\u001b[0m\n\u001b[1;32m   1522\u001b[0m \u001b[38;5;28;01mif\u001b[39;00m \u001b[38;5;28misinstance\u001b[39m(content_or_path, \u001b[38;5;28mbytes\u001b[39m):\n\u001b[1;32m   1523\u001b[0m     content_or_path \u001b[38;5;241m=\u001b[39m BytesIO(content_or_path)\n\u001b[0;32m-> 1525\u001b[0m \u001b[38;5;28;01mwith\u001b[39;00m \u001b[43mget_handle\u001b[49m\u001b[43m(\u001b[49m\n\u001b[1;32m   1526\u001b[0m \u001b[43m    \u001b[49m\u001b[43mcontent_or_path\u001b[49m\u001b[43m,\u001b[49m\u001b[43m \u001b[49m\u001b[38;5;124;43m\"\u001b[39;49m\u001b[38;5;124;43mrb\u001b[39;49m\u001b[38;5;124;43m\"\u001b[39;49m\u001b[43m,\u001b[49m\u001b[43m \u001b[49m\u001b[43mstorage_options\u001b[49m\u001b[38;5;241;43m=\u001b[39;49m\u001b[43mstorage_options\u001b[49m\u001b[43m,\u001b[49m\u001b[43m \u001b[49m\u001b[43mis_text\u001b[49m\u001b[38;5;241;43m=\u001b[39;49m\u001b[38;5;28;43;01mFalse\u001b[39;49;00m\n\u001b[1;32m   1527\u001b[0m \u001b[43m\u001b[49m\u001b[43m)\u001b[49m \u001b[38;5;28;01mas\u001b[39;00m handle:\n\u001b[1;32m   1528\u001b[0m     stream \u001b[38;5;241m=\u001b[39m handle\u001b[38;5;241m.\u001b[39mhandle\n\u001b[1;32m   1529\u001b[0m     stream\u001b[38;5;241m.\u001b[39mseek(\u001b[38;5;241m0\u001b[39m)\n",
      "File \u001b[0;32m~/anaconda3/lib/python3.10/site-packages/pandas/io/common.py:865\u001b[0m, in \u001b[0;36mget_handle\u001b[0;34m(path_or_buf, mode, encoding, compression, memory_map, is_text, errors, storage_options)\u001b[0m\n\u001b[1;32m    856\u001b[0m         handle \u001b[38;5;241m=\u001b[39m \u001b[38;5;28mopen\u001b[39m(\n\u001b[1;32m    857\u001b[0m             handle,\n\u001b[1;32m    858\u001b[0m             ioargs\u001b[38;5;241m.\u001b[39mmode,\n\u001b[0;32m   (...)\u001b[0m\n\u001b[1;32m    861\u001b[0m             newline\u001b[38;5;241m=\u001b[39m\u001b[38;5;124m\"\u001b[39m\u001b[38;5;124m\"\u001b[39m,\n\u001b[1;32m    862\u001b[0m         )\n\u001b[1;32m    863\u001b[0m     \u001b[38;5;28;01melse\u001b[39;00m:\n\u001b[1;32m    864\u001b[0m         \u001b[38;5;66;03m# Binary mode\u001b[39;00m\n\u001b[0;32m--> 865\u001b[0m         handle \u001b[38;5;241m=\u001b[39m \u001b[38;5;28;43mopen\u001b[39;49m\u001b[43m(\u001b[49m\u001b[43mhandle\u001b[49m\u001b[43m,\u001b[49m\u001b[43m \u001b[49m\u001b[43mioargs\u001b[49m\u001b[38;5;241;43m.\u001b[39;49m\u001b[43mmode\u001b[49m\u001b[43m)\u001b[49m\n\u001b[1;32m    866\u001b[0m     handles\u001b[38;5;241m.\u001b[39mappend(handle)\n\u001b[1;32m    868\u001b[0m \u001b[38;5;66;03m# Convert BytesIO or file objects passed with an encoding\u001b[39;00m\n",
      "\u001b[0;31mFileNotFoundError\u001b[0m: [Errno 2] No such file or directory: 'data.xlsx'"
     ]
    }
   ],
   "source": [
    "import pandas as pd\n",
    "import numpy as np\n",
    "import matplotlib.pyplot as plt\n",
    "\n",
    "from seaborn import load_dataset\n",
    "from scipy.optimize import curve_fit\n",
    "\n",
    "# данные из лабораторной работы\n",
    "data = pd.read_excel(\"data.xlsx\")\n",
    "\n",
    "T = data[\"T\"][:-1]\n",
    "U = data[\"U\"][:-1]\n",
    "I = data[\"I\"][:-1]\n",
    "\n",
    "# создание прямой с шумом\n",
    "\n",
    "true_w1 = 2.8\n",
    "true_w0 = 1.5\n",
    "xs = np.arange(0, 10, 0.5)\n",
    "noise = np.random.normal(0, 0.45, size=xs.shape)\n",
    "ys = true_w1 * xs + true_w0 + noise"
   ]
  },
  {
   "cell_type": "code",
   "execution_count": 8,
   "id": "70ee0a6d",
   "metadata": {},
   "outputs": [
    {
     "name": "stdout",
     "output_type": "stream",
     "text": [
      "Уравнение прямой: U = 1.01 * T + 1.01\n"
     ]
    },
    {
     "data": {
      "image/png": "[encoded data removed]",
      "text/plain": [
       "<Figure size 800x600 with 1 Axes>"
      ]
     },
     "metadata": {},
     "output_type": "display_data"
    }
   ],
   "source": [
    "import pandas as pd\n",
    "import numpy as np\n",
    "import matplotlib.pyplot as plt\n",
    "from sklearn.linear_model import LinearRegression\n",
    "\n",
    "\n",
    "\n",
    "T = np.array([0, 1, 2, 3, 4, 5, 6, 7, 8, 9])\n",
    "U = np.array([1.2, 2.1, 2.9, 3.8, 5.0, 6.1, 6.9, 8.0, 9.1, 10.2])\n",
    "\n",
    "T_reshaped = T.reshape(-1, 1)\n",
    "\n",
    "model = LinearRegression()\n",
    "model.fit(T_reshaped, U)\n",
    "\n",
    "slope = model.coef_[0]\n",
    "intercept = model.intercept_\n",
    "print(f\"Уравнение прямой: U = {slope:.2f} * T + {intercept:.2f}\")\n",
    "\n",
    "U_pred = model.predict(T_reshaped)\n",
    "\n",
    "plt.figure(figsize=(8, 6))\n",
    "plt.scatter(T, U, color='blue', label='Экспериментальные данные')\n",
    "plt.plot(T, U_pred, color='red', label='Регрессия')\n",
    "plt.xlabel('T')\n",
    "plt.ylabel('U')\n",
    "plt.title('Линейная регрессия ')\n",
    "plt.legend()\n",
    "plt.grid(True)\n",
    "plt.show()"
   ]
  },
  {
   "cell_type": "code",
   "execution_count": 9,
   "id": "49e35331",
   "metadata": {},
   "outputs": [
    {
     "name": "stdout",
     "output_type": "stream",
     "text": [
      "Уравнение прямой: y = 2.86 * x + 1.25\n"
     ]
    },
    {
     "data": {
      "image/png": "[encoded data removed]",
      "text/plain": [
       "<Figure size 800x600 with 1 Axes>"
      ]
     },
     "metadata": {},
     "output_type": "display_data"
    }
   ],
   "source": [
    "import numpy as np\n",
    "import matplotlib.pyplot as plt\n",
    "from sklearn.linear_model import LinearRegression\n",
    "\n",
    "true_w1 = 2.8  # коэффициент наклона\n",
    "true_w0 = 1.5  # свободное слагаемое\n",
    "xs = np.arange(0, 10, 0.5)\n",
    "noise = np.random.normal(0, 0.45, size=xs.shape)\n",
    "ys = true_w1 * xs + true_w0 + noise\n",
    "\n",
    "xs_reshaped = xs.reshape(-1, 1)\n",
    "\n",
    "model = LinearRegression()\n",
    "model.fit(xs_reshaped, ys)\n",
    "\n",
    "slope = model.coef_[0]\n",
    "intercept = model.intercept_\n",
    "print(f\"Уравнение прямой: y = {slope:.2f} * x + {intercept:.2f}\")\n",
    "\n",
    "ys_pred = model.predict(xs_reshaped)\n",
    "\n",
    "plt.figure(figsize=(8, 6))\n",
    "plt.scatter(xs, ys, color='green', label='Данные с шумом')\n",
    "plt.plot(xs, ys_pred, color='red', label='Регрессия')\n",
    "plt.xlabel('x')\n",
    "plt.ylabel('y')\n",
    "plt.title('Линейная регрессия')\n",
    "plt.legend()\n",
    "plt.grid(True)\n",
    "plt.show()"
   ]
  },
  {
   "cell_type": "markdown",
   "id": "801254b9",
   "metadata": {},
   "source": [
    "### 3. Правдоподобие для гауссовой вероятностной модели.\n",
    "\n",
    "Пусть дана выборка точек на прямой $\\left\\{x_i\\right\\}$.\n",
    "\n",
    "Максимизируйте правдоподобие (или его логарифм) в гауссовой вероятностной модели:\n",
    "$$\n",
    "\\prod_i p\\left(x_i\\right) \\rightarrow \\max _{\\mu, \\sigma} \\quad p(x)=\\frac{1}{\\sqrt{2 \\pi \\sigma^2}} e^{-\\frac{(x-\\mu)^2}{2 \\sigma^2}} .\n",
    "$$"
   ]
  },
  {
   "cell_type": "markdown",
   "id": "d12ae226",
   "metadata": {},
   "source": [
    "\n",
    "\n",
    "\n",
    "$L(\\mu, \\sigma) = \\prod_{i=1}^{n} p(x_i) = \\prod_{i=1}^{n} \\frac{1}{\\sqrt{2\\pi \\sigma^2}} e^{ -\\frac{(x_i - \\mu)^2}{2\\sigma^2} }.$\n",
    "\n",
    "\n",
    "\n",
    "\n",
    "\n",
    "$\\ell(\\mu, \\sigma) = \\ln L(\\mu, \\sigma) = \\sum_{i=1}^{n} \\ln p(x_i) = \\sum_{i=1}^{n} \\left( -\\frac{1}{2} \\ln(2\\pi \\sigma^2) - \\frac{(x_i - \\mu)^2}{2\\sigma^2} \\right).$\n",
    "\n",
    "\n",
    "\n",
    "\n",
    "\n",
    "$\\ell(\\mu, \\sigma) = -\\frac{n}{2} \\ln(2\\pi \\sigma^2) - \\frac{1}{2\\sigma^2} \\sum_{i=1}^{n} (x_i - \\mu)^2.$\n",
    "\n",
    "\n",
    "\n",
    "Мю:\n",
    "\n",
    "$\\frac{\\partial \\ell}{\\partial \\mu} = -\\frac{1}{2\\sigma^2} \\cdot 2 \\sum_{i=1}^{n} (x_i - \\mu) (-1) = \\frac{1}{\\sigma^2} \\sum_{i=1}^{n} (x_i - \\mu).$\n",
    "\n",
    "\n",
    "\n",
    "$\\frac{\\partial \\ell}{\\partial \\mu} = 0 \\quad \\Rightarrow \\quad \\sum_{i=1}^{n} (x_i - \\mu) = 0 \\quad \\Rightarrow \\quad n \\mu = \\sum_{i=1}^{n} x_i.$\n",
    "\n",
    "\n",
    "Сигма:\n",
    "\n",
    "$\\frac{\\partial \\ell}{\\partial \\sigma} = -\\frac{n}{2} \\cdot \\frac{2\\sigma}{2\\pi \\sigma^4} + \\frac{1}{2\\sigma^4} \\cdot 2 \\sum_{i=1}^{n} (x_i - \\mu)^2 = -\\frac{n}{\\sigma} + \\frac{1}{\\sigma^3} \\sum_{i=1}^{n} (x_i - \\mu)^2.$\n",
    "\n",
    "\n",
    "\n",
    "\n",
    "$-\\frac{n}{\\sigma} + \\frac{1}{\\sigma^3} \\sum_{i=1}^{n} (x_i - \\mu)^2 = 0.$\n",
    "\n",
    "\n",
    "Таким образом оптимальные значения параметров совпадают со средним и стандартным отклонением. "
   ]
  },
  {
   "cell_type": "markdown",
   "id": "919ff80a",
   "metadata": {},
   "source": [
    "### 4. Гауссовы интегралы для МНК.  \n",
    "\n",
    "\n",
    "На лекции обсуждался учет влияния систематической погрешности путем усреднения решения задачи МНК по гауссовому нормальному распределению для $y$-координат точек выборки: $\\tilde{y}_i \\sim \\mathcal{N}\\left(y_i, s^2\\right)$, где погрешность по оси ординат считалась равной $s$. Обобщите этот вывод на случай, когда каждая точка имеет свою $y$-погрешность $s_i$. Для этого проведите усреднение по многомерному нормальному распределению для $\\tilde{y}_i$ с произвольной симметричной матрицей ковариации $A^{-1}$ :\n",
    "$$\n",
    "\\begin{array}{r}\n",
    "\\tilde{y} \\sim \\frac{1}{(2 \\pi)^{N / 2} (\\operatorname{det} (A))^{1/2} } \\exp \\left(-\\frac{(\\tilde{y}-y)^T A^{-1}(\\tilde{y}-y)}{2}\\right), \\ \\ \\ \\ (1) \\\\\n",
    "\\text { где } y=\\left(\\begin{array}{lll}\n",
    "y_i & \\ldots & y_N\n",
    "\\end{array}\\right)^T, \\text { a } \\tilde{y}=\\left(\\begin{array}{lll}\n",
    "\\tilde{y}_i & \\ldots & \\tilde{y}_N\n",
    "\\end{array}\\right)^T .\n",
    "\\end{array}\n",
    "$$\n",
    "1. Покажите, что распределение (1) правильно нормировано. Указание: Выполните замену координат $\\tilde{y}-y=S z$, где матрица $S$ диагонализует $A$.\n",
    "2. Вычислите неприводимые парные корреляторы $\\left\\langle\\left\\langle\\tilde{w}_i \\tilde{w}_j\\right\\rangle\\right\\rangle$, усредняя по распределению (1). Указание: Сделайте замену $\\tilde{y}-y=Y$. Для вычисления гауссового интеграла с предэкспонентой вычислите интеграл $\\int d^N Y \\exp \\left(-Y^T A^{-1} Y / 2+J^T Y\\right)$ и выполните дифференцирование по параметрам $J_i$ (компоненты вектора $J$ )."
   ]
  },
  {
   "cell_type": "markdown",
   "id": "f1292b9b",
   "metadata": {},
   "source": [
    "1. \n",
    "\n",
    "\n",
    "\n",
    "$\\int_{-\\infty}^{\\infty} \\cdots \\int_{-\\infty}^{\\infty} p(\\tilde{y}) \\, d\\tilde{y}_1 \\cdots d\\tilde{y}_N = 1$??\n",
    "\n",
    "\n",
    "$\\tilde{y} - y = S z$\n",
    "\n",
    "\n",
    "$  A = S S^T $\n",
    "\n",
    "$  A^{-1} = (S S^T)^{-1} = (S^T)^{-1} S^{-1} $\n",
    "\n",
    "\n",
    "\n",
    "$d\\tilde{y}_1 \\cdots d\\tilde{y}_N = |\\det S| \\, dz_1 \\cdots dz_N$\n",
    "\n",
    "\n",
    "\n",
    "$(\\tilde{y} - y)^T A^{-1} (\\tilde{y} - y) = (S z)^T A^{-1} (S z) = z^T S^T A^{-1} S z = z^T S^T (S S^T)^{-1} S z = z^T z$\n",
    "\n",
    "Так как  $S^T (S S^T)^{-1} S = I $\n",
    "\n",
    "\n",
    "\n",
    "\n",
    "$p(\\tilde{y}) = \\frac{1}{(2\\pi)^{N/2} (\\det A)^{1/2}} \\exp\\left( -\\frac{1}{2} z^T z \\right)$\n",
    "\n",
    "\n",
    "\n",
    "$\\int p(\\tilde{y}) \\, d\\tilde{y}_1 \\cdots d\\tilde{y}_N = \\int \\frac{1}{(2\\pi)^{N/2} (\\det A)^{1/2}} \\exp\\left( -\\frac{1}{2} z^T z \\right) |\\det S| \\, dz_1 \\cdots dz_N$\n",
    "\n",
    "\n",
    "\n",
    "$\\int \\frac{1}{(2\\pi)^{N/2}} \\exp\\left( -\\frac{1}{2} z^T z \\right) dz_1 \\cdots dz_N = 1$\n",
    "\n",
    "ЧТД\n",
    "\n",
    "\n",
    "2. \n",
    "\n",
    "\n",
    "\n",
    "\n",
    "$\\langle\\langle \\tilde{y}_i \\tilde{y}_j \\rangle\\rangle = \\langle \\tilde{y}_i \\tilde{y}_j \\rangle - \\langle \\tilde{y}_i \\rangle \\langle \\tilde{y}_j \\rangle$\n",
    "\n",
    "\n",
    "\n",
    "\n",
    "$Y = \\tilde{y} - y$\n",
    "\n",
    "\n",
    "\n",
    "$p(Y) = \\frac{1}{(2\\pi)^{N/2} (\\det A)^{1/2}} \\exp\\left( -\\frac{1}{2} Y^T A^{-1} Y \\right)$\n",
    "\n",
    "\n",
    "\n",
    "$\\langle \\tilde{y}_i \\tilde{y}_j \\rangle = \\langle (y_i + Y_i)(y_j + Y_j) \\rangle = y_i y_j + y_i \\langle Y_j \\rangle + y_j \\langle Y_i \\rangle + \\langle Y_i Y_j \\rangle$\n",
    "\n",
    "\n",
    "\n",
    "$\\langle \\tilde{y}_i \\tilde{y}_j \\rangle = y_i y_j + \\langle Y_i Y_j \\rangle.$\n",
    "\n",
    "\n",
    "\n",
    "$\\langle\\langle \\tilde{y}_i \\tilde{y}_j \\rangle\\rangle = \\langle \\tilde{y}_i \\tilde{y}_j \\rangle - \\langle \\tilde{y}_i \\rangle \\langle \\tilde{y}_j \\rangle = \\left( y_i y_j + \\langle Y_i Y_j \\rangle \\right) - y_i y_j = \\langle Y_i Y_j \\rangle$\n",
    "\n",
    "\n",
    "\n",
    "Так как  Y  распределена по многомерному нормальному закону с ковариационной матрицей  A , то:\n",
    "\n",
    "$\\langle Y_i Y_j \\rangle = A_{ij}$\n",
    "\n",
    "\t\n",
    "Таким образом,\n",
    "\n",
    "$\\langle\\langle \\tilde{y}_i \\tilde{y}j \\rangle\\rangle = A{ij}$\n"
   ]
  },
  {
   "cell_type": "markdown",
   "id": "1b89b938",
   "metadata": {},
   "source": [
    "### 5. Систематические погрешности в МНК.\n",
    "\n",
    "Выполните в условиях предыдущей задачи.\n",
    "\n",
    "1. Оцените систематические погрешности параметров модели $w_\\alpha$, следуя вычислению, приведенному на лекции, и используя корреляторы, полученные в предыдущем пункте.\n",
    "2. Запишите решение в частном случае диагональной матрицы $A=\\operatorname{diag}\\left(A_1, \\ldots, A_N\\right)$. Как следует выбирать величины $A_i$ для моделирования $y$-погрешности $i$-ой точки, равной $s_i$ ?"
   ]
  },
  {
   "cell_type": "markdown",
   "id": "b208c5c5",
   "metadata": {},
   "source": [
    "\n",
    "\n"
   ]
  },
  {
   "cell_type": "code",
   "execution_count": null,
   "id": "cf3bdbe5",
   "metadata": {},
   "outputs": [],
   "source": []
  }
 ],
 "metadata": {
  "kernelspec": {
   "display_name": "Python 3 (ipykernel)",
   "language": "python",
   "name": "python3"
  },
  "language_info": {
   "codemirror_mode": {
    "name": "ipython",
    "version": 3
   },
   "file_extension": ".py",
   "mimetype": "text/x-python",
   "name": "python",
   "nbconvert_exporter": "python",
   "pygments_lexer": "ipython3",
   "version": "3.10.9"
  }
 },
 "nbformat": 4,
 "nbformat_minor": 5
}
