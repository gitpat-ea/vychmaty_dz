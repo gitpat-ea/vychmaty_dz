{
 "cells": [
  {
   "cell_type": "code",
   "execution_count": 2,
   "metadata": {},
   "outputs": [
    {
     "name": "stdout",
     "output_type": "stream",
     "text": [
      "800 600\n",
      "Fourier образ сохранён в файле out.jpg\n",
      "Обратное преобразованное изображение сохранено в файле out2.jpg\n"
     ]
    }
   ],
   "source": [
    "import numpy as np\n",
    "from PIL import Image\n",
    "import sys\n",
    "\n",
    "\n",
    "def curve(pixel):\n",
    "    r, g, b = pixel\n",
    "    brightness = r + g + b\n",
    "    if brightness < 60:\n",
    "        k = 60 / brightness\n",
    "        return min(255, int(r * k ** 2)), min(255, int(g * k ** 2)), min(255, int(b* k\n",
    "** 2))\n",
    "    else:\n",
    "        return r, g, b\n",
    "\n",
    "\n",
    "im = Image.open(\"image.png\")\n",
    "pixels = im.load() # список с пикселями\n",
    "x, y = im.size # ширина (x) и высота (y) изображения\n",
    "print(x, y)\n",
    "n = min(x,y)\n",
    "for i in range(n):\n",
    "    for j in range(i+1, n):\n",
    "        r, g, b = pixels[i, j]\n",
    "        pixels[i, j], pixels[j, i] =  pixels[j, i], pixels[i, j]\n",
    "im.save(\"Риана2.jpg\")\n",
    "\n",
    "\n",
    "\n",
    "\n",
    "\n",
    "\n",
    "# Загружаем исходное изображение и преобразуем в RGB\n",
    "img = Image.open(\"image.png\").convert(\"RGB\")\n",
    "data = np.array(img)\n",
    "h, w, channels = data.shape\n",
    "\n",
    "# Выполняем 2D-преобразование Фурье для каждого цветового канала\n",
    "fft_data = np.zeros((h, w, channels), dtype=np.complex128)\n",
    "for ch in range(channels):\n",
    "    fft_data[:, :, ch] = np.fft.fft2(data[:, :, ch])\n",
    "\n",
    "# Вычисляем логарифмический масштаб модуля (для лучшей визуализации)\n",
    "magnitude = np.abs(fft_data)\n",
    "magnitude_log = np.log1p(magnitude)\n",
    "\n",
    "# Нормализуем каждую компоненту до диапазона [0,255]\n",
    "magnitude_norm = np.zeros_like(magnitude_log)\n",
    "for ch in range(channels):\n",
    "    max_val = magnitude_log[:, :, ch].max()\n",
    "    if max_val > 0:\n",
    "        magnitude_norm[:, :, ch] = 255 * magnitude_log[:, :, ch] / max_val\n",
    "\n",
    "# Округляем до целых чисел и приводим к типу uint8\n",
    "magnitude_img = np.rint(magnitude_norm).astype(np.uint8)\n",
    "\n",
    "\n",
    "Image.fromarray(magnitude_img, mode=\"RGB\").save(\"out.jpg\")\n",
    "print(\"Fourier образ сохранён в файле out.jpg\")\n",
    "\n",
    "filtered_fft = np.copy(fft_data)\n",
    "filtered_fft[h//2:, :, :] = 0  \n",
    "filtered_fft[:, w//2:, :] = 0  \n",
    "\n",
    "# Выполняем обратное преобразование Фурье для каждого канала\n",
    "filtered_img = np.zeros((h, w, channels), dtype=np.float64)\n",
    "for ch in range(channels):\n",
    "    inv_channel = np.fft.ifft2(filtered_fft[:, :, ch])\n",
    "    filtered_img[:, :, ch] = np.real(inv_channel)\n",
    "\n",
    "# Ограничиваем диапазон значений до [0, 255] и округляем до целых чисел\n",
    "filtered_img = np.clip(filtered_img, 0, 255)\n",
    "filtered_img = np.rint(filtered_img).astype(np.uint8)\n",
    "\n",
    "\n",
    "Image.fromarray(filtered_img, mode=\"RGB\").save(\"out2.jpg\")\n",
    "print(\"Обратное преобразованное изображение сохранено в файле out2.jpg\")\n",
    "\n",
    "\n"
   ]
  },
  {
   "cell_type": "markdown",
   "metadata": {},
   "source": [
    "# Задание 2. Фурье-преобразование звука.\n",
    "\n",
    "Возьмите файл in10.wav и, используя sound.py, добавьте в его фурье-образ низкочастотный шум. Сохраните результат в out1.wav. После этого обрежьте нижние частоты в фурье-образе и сохраните в out2.wav."
   ]
  },
  {
   "cell_type": "markdown",
   "metadata": {},
   "source": []
  }
 ],
 "metadata": {
  "kernelspec": {
   "display_name": "base",
   "language": "python",
   "name": "python3"
  },
  "language_info": {
   "codemirror_mode": {
    "name": "ipython",
    "version": 3
   },
   "file_extension": ".py",
   "mimetype": "text/x-python",
   "name": "python",
   "nbconvert_exporter": "python",
   "pygments_lexer": "ipython3",
   "version": "3.10.9"
  }
 },
 "nbformat": 4,
 "nbformat_minor": 2
}
