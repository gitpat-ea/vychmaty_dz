{
 "cells": [
  {
   "cell_type": "code",
   "execution_count": 1,
   "metadata": {},
   "outputs": [],
   "source": [
    "import numpy as np"
   ]
  },
  {
   "cell_type": "markdown",
   "metadata": {},
   "source": [
    "__Задание 1. Генератор случайных матриц.__\n",
    "\n",
    "Реализовать генератор матриц, который должен поддерживать функции:\n",
    "* Генерация абсолютно случайной матрицы $n\\times m$\n",
    "* Генерация случайной диагональной матрицы $n\\times n$\n",
    "* Генерация случайной верхнетреугольной матрицы\n",
    "* Генерация случайной нижнетреугольной матрицы\n",
    "* Генерация симметричной матрицы\n",
    "* Генерация возмущения матрицы $n\\times m$, каждый элемент которой не превосходит по модулю заданный $\\varepsilon$. Оценить величину нормы матрицы возмущений в зависимости от параметра $\\varepsilon$ (оценить верхную границу).\n",
    "\n",
    "Оценить численно вероятность того, что созданная матрица будет вырожденной для какого-либо случая выше."
   ]
  },
  {
   "cell_type": "code",
   "execution_count": 3,
   "metadata": {},
   "outputs": [],
   "source": [
    "\n",
    "def matrix_generate(rows, columns, type_ = \"full\", eps = 0):\n",
    "    A = None\n",
    "\n",
    "    if type_ == \"full\":\n",
    "        A = np.random.random(size=(rows, columns))\n",
    "\n",
    "    elif type_ == \"upper_triangular\":\n",
    "        A = np.triu(np.random.random(size=(rows, columns)))\n",
    "\n",
    "    elif type_ == \"lower_triangular\":\n",
    "        A = np.tril(np.random.random(size=(rows, columns)))\n",
    "\n",
    "    elif type_ == \"symmetric\":\n",
    "        if rows != columns:\n",
    "            return f\"Error with type {type_} and shape ({rows},{columns})\"\n",
    "        else:\n",
    "            A = np.random.random(size=(rows, columns))\n",
    "            A = (A + A.T) / 2\n",
    "\n",
    "    elif type_ == \"diagonal\":\n",
    "        if rows != columns:\n",
    "            return f\"Error with type {type_} and shape ({rows},{columns})\"\n",
    "        else:\n",
    "            A = np.diag(np.random.random(size=rows))\n",
    "\n",
    "    elif type_ == \"perturbation\":\n",
    "        A = np.random.uniform(-eps, eps, size=(rows, columns))\n",
    "        \n",
    "\n",
    "    else:\n",
    "        return f\"Error with type {type_} and shape ({rows},{columns})\"\n",
    "\n",
    "    return A"
   ]
  },
  {
   "cell_type": "code",
   "execution_count": 4,
   "metadata": {},
   "outputs": [
    {
     "data": {
      "text/plain": [
       "array([[0.35992462, 0.79451555, 0.09555595]])"
      ]
     },
     "execution_count": 4,
     "metadata": {},
     "output_type": "execute_result"
    }
   ],
   "source": [
    "matrix_generate(1, 3)"
   ]
  },
  {
   "cell_type": "code",
   "execution_count": 5,
   "metadata": {},
   "outputs": [
    {
     "data": {
      "text/plain": [
       "array([[0.77917945, 0.        , 0.        , 0.        ],\n",
       "       [0.        , 0.41425724, 0.        , 0.        ],\n",
       "       [0.        , 0.        , 0.22794092, 0.        ],\n",
       "       [0.        , 0.        , 0.        , 0.2695036 ]])"
      ]
     },
     "execution_count": 5,
     "metadata": {},
     "output_type": "execute_result"
    }
   ],
   "source": [
    "matrix_generate(4, 4, type_ = \"diagonal\")"
   ]
  },
  {
   "cell_type": "code",
   "execution_count": 6,
   "metadata": {},
   "outputs": [
    {
     "data": {
      "text/plain": [
       "array([[0.61452128, 0.34820629, 0.16720591, 0.37846151],\n",
       "       [0.        , 0.20015628, 0.70622661, 0.72677347],\n",
       "       [0.        , 0.        , 0.44891598, 0.86842141],\n",
       "       [0.        , 0.        , 0.        , 0.9911288 ]])"
      ]
     },
     "execution_count": 6,
     "metadata": {},
     "output_type": "execute_result"
    }
   ],
   "source": [
    "matrix_generate(4, 4, type_ = \"upper_triangular\")"
   ]
  },
  {
   "cell_type": "code",
   "execution_count": 7,
   "metadata": {},
   "outputs": [
    {
     "data": {
      "text/plain": [
       "array([[0.24009932, 0.        , 0.        , 0.        ],\n",
       "       [0.49832008, 0.12657328, 0.        , 0.        ],\n",
       "       [0.31101872, 0.38788159, 0.88760546, 0.        ],\n",
       "       [0.46644499, 0.16433465, 0.74620298, 0.9451514 ]])"
      ]
     },
     "execution_count": 7,
     "metadata": {},
     "output_type": "execute_result"
    }
   ],
   "source": [
    "matrix_generate(4, 4, type_ = \"lower_triangular\")"
   ]
  },
  {
   "cell_type": "code",
   "execution_count": 8,
   "metadata": {},
   "outputs": [
    {
     "data": {
      "text/plain": [
       "array([[0.27633372, 0.07395469, 0.56785259, 0.52679554],\n",
       "       [0.07395469, 0.50570934, 0.84637788, 0.58443492],\n",
       "       [0.56785259, 0.84637788, 0.25912268, 0.43178006],\n",
       "       [0.52679554, 0.58443492, 0.43178006, 0.95314766]])"
      ]
     },
     "execution_count": 8,
     "metadata": {},
     "output_type": "execute_result"
    }
   ],
   "source": [
    "matrix_generate(4, 4, type_ = \"symmetric\")"
   ]
  },
  {
   "cell_type": "code",
   "execution_count": 9,
   "metadata": {},
   "outputs": [
    {
     "data": {
      "text/plain": [
       "'Error with type symmetric and shape (4,1)'"
      ]
     },
     "execution_count": 9,
     "metadata": {},
     "output_type": "execute_result"
    }
   ],
   "source": [
    "matrix_generate(4, 1, type_ = \"symmetric\")"
   ]
  },
  {
   "cell_type": "code",
   "execution_count": null,
   "metadata": {},
   "outputs": [],
   "source": []
  },
  {
   "cell_type": "markdown",
   "metadata": {},
   "source": [
    "Теперь величину нормы матрицы возмущений в зависимости от параметра $\\varepsilon$ (оценить верхную границу).\n",
    "\n",
    "\n",
    "\n",
    "- __Норма Фробениуса__:  $\\quad$   $||M||_F=\\sqrt{\\sum_{i=1}^n \\sum_{j=1}^n\\left|a_{i j}\\right|^2} \\leq \\sqrt{nm} \\varepsilon$"
   ]
  },
  {
   "cell_type": "markdown",
   "metadata": {},
   "source": [
    "#### Задание 2. Вычисление матричных норм и числа обусловленности.\n",
    "\n",
    "Реализовать вычисление трех основных норм векторов (L1, L2 и максимальную) и подчиненных им матричных норм. Реализовать вычисление числа обусловленности.\n",
    "\n",
    "Примечание: для вычисления собственных значений можно использовать linalg.eigvals из модуля scipy."
   ]
  },
  {
   "cell_type": "code",
   "execution_count": 11,
   "metadata": {},
   "outputs": [],
   "source": [
    "def vec_norm(v, type_ = \"M\"):\n",
    "\n",
    "    if type_ == \"M\":\n",
    "        return np.max(np.abs(v))\n",
    "    \n",
    "    elif type_ == \"l1\":\n",
    "        return np.sum(np.abs(v))\n",
    "    \n",
    "    elif type_ == \"l2\":\n",
    "        return np.sqrt(np.sum((np.abs(v))**2))\n",
    "    \n",
    "    else:\n",
    "        return f\"Error: no type {type_}\"\n",
    "    \n",
    "\n",
    "def mat_norm(m, type_ = \"M\"):\n",
    "\n",
    "    if type_ == \"M\":\n",
    "        return np.max(np.sum(np.abs(m), axis=1))\n",
    "    \n",
    "    elif type_ == \"l1\":\n",
    "        return np.max(np.sum(np.abs(m), axis=0))\n",
    "    \n",
    "    elif type_ == \"l2\":\n",
    "        eigenvalues, _ = np.linalg.eig(np.dot(m.T, m))\n",
    "        return np.sqrt(np.max(eigenvalues))\n",
    "\n",
    "    else:\n",
    "        return f\"Error: no type {type_}\"\n",
    "    \n",
    "\n",
    "def condition_number(m, type_ = \"M\"):\n",
    "    norm_m = mat_norm(m, type_)\n",
    "    \n",
    "    try:\n",
    "        inv_m = np.linalg.inv(m)\n",
    "        norm_inv_m = mat_norm(inv_m, type_)\n",
    "    except np.linalg.LinAlgError:\n",
    "        raise ValueError(\"Error: the matrix is singular and has no inverse\")\n",
    "    \n",
    "    condition_num = norm_m * norm_inv_m\n",
    "    return condition_num      "
   ]
  },
  {
   "cell_type": "code",
   "execution_count": 12,
   "metadata": {},
   "outputs": [
    {
     "name": "stdout",
     "output_type": "stream",
     "text": [
      "7\n",
      "7.0\n"
     ]
    }
   ],
   "source": [
    "M = np.array([[1, 2], [3, 4]])\n",
    "\n",
    "print(mat_norm(M, type_ = \"M\"))\n",
    "print(np.linalg.norm(M, ord=np.inf))"
   ]
  },
  {
   "cell_type": "code",
   "execution_count": 13,
   "metadata": {},
   "outputs": [
    {
     "name": "stdout",
     "output_type": "stream",
     "text": [
      "6\n",
      "6.0\n"
     ]
    }
   ],
   "source": [
    "M = np.array([[1, 2], [3, 4]])\n",
    "\n",
    "print(mat_norm(M, type_ = \"l1\"))\n",
    "print(np.linalg.norm(M, ord=1))"
   ]
  },
  {
   "cell_type": "code",
   "execution_count": 14,
   "metadata": {},
   "outputs": [
    {
     "name": "stdout",
     "output_type": "stream",
     "text": [
      "5.464985704219043\n",
      "5.464985704219043\n"
     ]
    }
   ],
   "source": [
    "M = np.array([[1, 2], [3, 4]])\n",
    "\n",
    "print(mat_norm(M, type_ = \"l2\"))\n",
    "print(np.linalg.norm(M, ord=2))"
   ]
  },
  {
   "cell_type": "code",
   "execution_count": 18,
   "metadata": {},
   "outputs": [
    {
     "name": "stdout",
     "output_type": "stream",
     "text": [
      "Condition number of matrix M: 14.93303437365925\n"
     ]
    }
   ],
   "source": [
    "print(\"Condition number of matrix M:\", condition_number(M, type_='l2'))"
   ]
  },
  {
   "cell_type": "markdown",
   "metadata": {},
   "source": [
    "#### Задание 3. Эквивалентность первых двух норм\n",
    "\n",
    "Найдите константы $C_1$  и  $C_2$ такие, что\n",
    "\n",
    "$\\ C_1||\\mathbf{x}||_2\\leq||\\mathbf{x}||_1\\leq C_2||\\mathbf{x}||_2$\n",
    "\n",
    "__________________________________________"
   ]
  },
  {
   "cell_type": "markdown",
   "metadata": {},
   "source": [
    "Для вектора $\\mathbf{x} \\in \\mathbb{R}^n$:\n",
    "\n",
    "- Норма $\\ell_1$ определена как:\n",
    "  $ ||\\mathbf{x}||_1 = \\sum_{i=1}^n |x_i|$\n",
    "\n",
    "- Норма $\\ell_2$ определена как:\n",
    "  $ ||\\mathbf{x}||_2 = \\sqrt{\\sum_{i=1}^n x_i^2} $\n",
    "\n",
    "Теперь найдём константы $C_1$ и $C_2$, такие что:\n",
    "$ C_1 ||\\mathbf{x}||_2 \\leq ||\\mathbf{x}||_1 \\leq C_2 ||\\mathbf{x}||_2 $"
   ]
  },
  {
   "cell_type": "markdown",
   "metadata": {},
   "source": [
    "Для любого вектора  $\\mathbf{x}$  из  $\\mathbb{R}^n$  применим неравенство Коши-Буняковского:\n",
    "\n",
    "\n",
    "$||\\mathbf{x}||1 = \\left( \\sum_{i=1}^{n} |x_i| \\right)  \\leq \\sqrt{n} \\left( \\sum_{i=1}^{n} x_i^2 \\right)^{1/2} = \\sqrt{n} ||\\mathbf{x}||_2.$\n",
    "\n",
    "\n",
    "Отсюда:\n",
    "\n",
    "\n",
    "$||\\mathbf{x}||_1 \\leq \\sqrt{n} ||\\mathbf{x}||_2,$\n",
    "\n",
    "\n",
    "то есть  C_2 = $\\sqrt{n} .$"
   ]
  },
  {
   "cell_type": "markdown",
   "metadata": {},
   "source": [
    "Для $\\ C_1||\\mathbf{x}||_2\\leq||\\mathbf{x}||_1$\n",
    "\n",
    "Очевидно, подойдет $С_1 = 1$"
   ]
  },
  {
   "cell_type": "markdown",
   "metadata": {},
   "source": [
    "#### Задание 4. Евклидова и бесконечная норма.\n",
    "\n",
    " Пусть x — вектор размерности m, а A — матрица m×n. Докажите следующие неравенства и приведите\n",
    "примеры таких x и A, при которых неравенства обращаются в равенства:\n",
    "\n",
    "- $||x||_2 \\leq \\sqrt{m} \\cdot ||x||_{\\infty}$\n",
    "- $||A||_{\\infty} \\leq \\sqrt{n} \\cdot ||A||_2$\n",
    "\n",
    "__________________________"
   ]
  },
  {
   "cell_type": "markdown",
   "metadata": {},
   "source": [
    "**1. Неравенство** $||x||_2 \\leq \\sqrt{m} \\cdot ||x||_{\\infty}$\n",
    "\n",
    "***Доказательство:***\n",
    "\n",
    "Воспользуемся определением норм. Пусть $x = (x_1, x_2, \\ldots, x_m)$.\n",
    "\n",
    "- Норма $\\ell_2$:\n",
    "  $ ||x||_2 = \\sqrt{x_1^2 + x_2^2 + \\ldots + x_m^2} $\n",
    "\n",
    "- Норма $\\ell_{\\infty}$:\n",
    "  $ ||x||_{\\infty} = \\max_{1 \\leq i \\leq m} |x_i| $\n",
    "\n",
    "Пусть $M = ||x||_{\\infty}$. Тогда $|x_i| \\leq M \\quad \\forall i$, значит:\n",
    "$ x_1^2 + x_2^2 + \\ldots + x_m^2 \\leq m M^2 $\n",
    "\n",
    "Следовательно:\n",
    "$ ||x||_2 = \\sqrt{x_1^2 + x_2^2 + \\ldots + x_m^2} \\leq \\sqrt{m M^2} = \\sqrt{m} \\cdot ||x||_{\\infty} $\n",
    "\n",
    "Таким образом:\n",
    "$ ||x||_2 \\leq \\sqrt{m} \\cdot ||x||_{\\infty} $\n",
    "\n",
    "***Пример:***\n",
    "\n",
    "Рассмотрим вектор $x = (1, 1, \\ldots, 1)$ размерности $m$. В этом случае:\n",
    "$ ||x||_2 = \\sqrt{m} \\quad \\text{и} \\quad ||x||_{\\infty} = 1 $  \n",
    "Подставляя в неравенство, получаем:  \n",
    "$ ||x||_2 = \\sqrt{m} \\leq \\sqrt{m} \\cdot 1 $  \n",
    "что дает равенство $||x||_2 = \\sqrt{m} \\cdot ||x||_{\\infty}$."
   ]
  },
  {
   "cell_type": "markdown",
   "metadata": {},
   "source": [
    "**2. Неравенство** $||A||_{\\infty} \\leq \\sqrt{n} \\cdot ||A||_2$\n",
    "\n",
    "***Доказательство:***\n",
    "\n",
    "Из теории и матанализа нам известно, что:  \n",
    "$ ||A||_{\\infty} = \\sup_{x \\neq 0} \\dfrac{||Ax||_{\\infty}}{||x||_{\\infty}} \\leq \\sup_{x \\neq 0} \\dfrac{||Ax||_{\\infty}}{\\dfrac{1}{\\sqrt{n}}||x||_{2}} \\leq \\sup_{x \\neq 0} \\dfrac{\\sqrt{n} \\cdot ||Ax||_{2}}{\\sqrt{m} \\cdot ||x||_{2}} \\leq \\sqrt{n} \\cdot ||A||_{2}$\n",
    "\n",
    "Откуда:\n",
    "$ ||A||_{\\infty} \\leq \\sqrt{n} \\cdot ||A||_2 $  \n",
    "\n",
    "***Пример:***\n",
    "\n",
    "Рассмотрим матрицу $A = \\begin{pmatrix} 1 & 1 & 1 & \\dots & 1 \\\\ 0 & \\dots & \\dots & \\dots & 0 \\\\ \\vdots & \\vdots & \\vdots & \\vdots & \\vdots \\\\ 0 & \\dots & \\dots & \\dots & 0 \\end{pmatrix}$ размерности $m \\times n$. В этом случае:\n",
    "- Норма $||A||_{\\infty} = n$.  \n",
    "- Норма $||A||_2 = \\sqrt{n}$.\n",
    "\n",
    "Таким образом, получаем:\n",
    "$ ||A||_{\\infty} = n = \\sqrt{n} \\cdot \\sqrt{n} = \\sqrt{n} \\cdot ||A||_{2}$.  \n",
    "\n",
    "____________________"
   ]
  },
  {
   "cell_type": "markdown",
   "metadata": {},
   "source": [
    "#### Задание 5.  Норма Фробениуса.\n",
    "\n",
    "Докажите, что для любой унитарной матрицы U (и для произвольной матрицы A) имеет место равенство\n",
    "\n",
    " $\\| U A \\|_F = \\| AU \\|_F = \\| A \\|_F$ ,\n",
    "\n",
    " где $\\| \\cdot \\|_F$ — норма Фробениуса.\n",
    "\n",
    "Указание.  \n",
    "Задачу можно решить без вычислений, если использовать геометрический смысл нормы Фробениуса и геометрические свойства умножения  \n",
    "на унитарную матрицу (что при умножении на неё сохраняется).\n",
    "\n",
    "____________________"
   ]
  },
  {
   "cell_type": "markdown",
   "metadata": {},
   "source": [
    "$||\\mathbf{A}||_{F}^{2}=\\operatorname{tr} (\\mathbf{A}^{+} \\mathbf{A}) = \\operatorname{tr} (\\mathbf{A} \\mathbf{A}^{+})$  \n",
    "\n",
    "$||\\mathbf{UA}||_{F}^{2}=\\operatorname{tr} (\\mathbf{A}^{+} \\mathbf{U}^{+} \\mathbf{U} \\mathbf{A} ) = \\operatorname{tr} (\\mathbf{A}^{+} \\mathbf{A}) = ||\\mathbf{A}||_{F}^{2}$  \n",
    "\n",
    "$||\\mathbf{AU}||_{F}^{2}=\\operatorname{tr} (\\mathbf{A} \\mathbf{U} \\mathbf{U}^{+} \\mathbf{A}^{+}) = \\operatorname{tr} (\\mathbf{A} \\mathbf{A}^{+}) = ||\\mathbf{A}||_{F}^{2}$  \n",
    "\n",
    "что и требовалось доказать"
   ]
  },
  {
   "cell_type": "code",
   "execution_count": null,
   "metadata": {},
   "outputs": [],
   "source": []
  }
 ],
 "metadata": {
  "kernelspec": {
   "display_name": "Python 3 (ipykernel)",
   "language": "python",
   "name": "python3"
  },
  "language_info": {
   "codemirror_mode": {
    "name": "ipython",
    "version": 3
   },
   "file_extension": ".py",
   "mimetype": "text/x-python",
   "name": "python",
   "nbconvert_exporter": "python",
   "pygments_lexer": "ipython3",
   "version": "3.10.9"
  }
 },
 "nbformat": 4,
 "nbformat_minor": 2
}
